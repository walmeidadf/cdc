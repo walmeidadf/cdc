{
 "cells": [
  {
   "cell_type": "markdown",
   "id": "a20cd12c-a60e-452d-9d9f-dac62f76bdb9",
   "metadata": {
    "tags": []
   },
   "source": [
    "### Import Modules"
   ]
  },
  {
   "cell_type": "code",
   "execution_count": 1,
   "id": "7b3a2c21-e00f-482e-b599-d8b4643cbb7e",
   "metadata": {},
   "outputs": [],
   "source": [
    "from pyspark.sql import SparkSession\n",
    "from pyspark.sql import functions as F\n",
    "from pyspark.sql.types import StructType, StructField, StringType, IntegerType\n",
    "from pyspark.sql.window import Window\n",
    "\n",
    "from delta.tables import *\n",
    "\n",
    "import os\n",
    "import json\n",
    "\n",
    "from datetime import datetime\n",
    "from pytz import timezone\n",
    "tz = timezone(\"America/Sao_Paulo\")"
   ]
  },
  {
   "cell_type": "markdown",
   "id": "4a9e605c-dfcc-4c95-81c6-6695a13f09ab",
   "metadata": {
    "tags": []
   },
   "source": [
    "### Build a Spark Session\n",
    "The entry point to programming Spark with the Dataset and DataFrame API."
   ]
  },
  {
   "cell_type": "code",
   "execution_count": 2,
   "id": "241a3957-b1e9-4f2b-bad5-67acd4a21940",
   "metadata": {},
   "outputs": [],
   "source": [
    "spark = SparkSession \\\n",
    "    .builder \\\n",
    "    .config(\"spark.jars.packages\", \"org.apache.spark:spark-sql-kafka-0-10_2.12:3.2.1,io.delta:delta-core_2.12:1.2.1\") \\\n",
    "    .config(\"spark.sql.extensions\", \"io.delta.sql.DeltaSparkSessionExtension\") \\\n",
    "    .config(\"spark.sql.catalog.spark_catalog\", \"org.apache.spark.sql.delta.catalog.DeltaCatalog\") \\\n",
    "    .appName(\"LabCDC\") \\\n",
    "    .getOrCreate()"
   ]
  },
  {
   "cell_type": "markdown",
   "id": "1f779551-9557-451c-a1c9-84b789e019c2",
   "metadata": {},
   "source": [
    "### Visualize delta lake table"
   ]
  },
  {
   "cell_type": "code",
   "execution_count": 3,
   "id": "1031d067-8898-4a97-8177-3a2b8eb83cd1",
   "metadata": {},
   "outputs": [],
   "source": [
    "# Define a path location where the table will be created\n",
    "location = \"/delta_lake/customers\"\n",
    "\n",
    "dfr = spark.read.format(\"delta\").load(location)"
   ]
  },
  {
   "cell_type": "code",
   "execution_count": 4,
   "id": "d6fbb48b-6c32-4408-ba5f-1657918c252a",
   "metadata": {},
   "outputs": [
    {
     "data": {
      "text/plain": [
       "4"
      ]
     },
     "execution_count": 4,
     "metadata": {},
     "output_type": "execute_result"
    }
   ],
   "source": [
    "dfr.count()"
   ]
  },
  {
   "cell_type": "code",
   "execution_count": 12,
   "id": "a884673f-3b51-489d-9e81-20c9311e58db",
   "metadata": {},
   "outputs": [
    {
     "name": "stdout",
     "output_type": "stream",
     "text": [
      "+--------------------+------------+---+---+----------+---------+--------------------+--------------------+----------+\n",
      "|           kafka_key|kafka_offset| op| id|first_name|last_name|               email|          created_at|updated_at|\n",
      "+--------------------+------------+---+---+----------+---------+--------------------+--------------------+----------+\n",
      "|{\"schema\":{\"type\"...|           2|  c|  7|  Fernando| Meireles|fernando.meireles...|2022-05-06 16:01:...|      null|\n",
      "|{\"schema\":{\"type\"...|           1|  c|  5|   Glauber|    Rocha|glauber.rocha@ter...|2022-05-06 16:01:...|      null|\n",
      "|{\"schema\":{\"type\"...|           3|  c|  8|  Fernando| Meireles|meireles@cidadede...|2022-05-06 16:03:...|      null|\n",
      "|{\"schema\":{\"type\"...|           3|  c|  6|    Hilton|  Lacerda|hilton@tatuagem.m...|2022-05-06 16:01:...|      null|\n",
      "|{\"schema\":{\"type\"...|           0|  r|  1|     Sally|   Thomas|sally.thomas@acme...|2022-05-06 14:30:...|      null|\n",
      "|{\"schema\":{\"type\"...|           4|  u|  2|    George|   Bailey|   george@foobar.com|2022-05-06 16:02:...|      null|\n",
      "|{\"schema\":{\"type\"...|           5|  u|  3|    Edward|   Walker|   edward@walker.com|2022-05-06 16:03:...|      null|\n",
      "|{\"schema\":{\"type\"...|           2|  d| 10|      null|     null|                null|2022-05-06 16:05:...|      null|\n",
      "|{\"schema\":{\"type\"...|           0|  c|  9|   Claudio|    Assis|claudio.assis@ama...|2022-05-06 16:03:...|      null|\n",
      "|{\"schema\":{\"type\"...|           1|  c| 10|    Alguem|     Ruim|alguem@algumfilme...|2022-05-06 16:03:...|      null|\n",
      "|{\"schema\":{\"type\"...|           0|  r|  2|    George|   Bailey|  gbailey@foobar.com|2022-05-06 14:30:...|      null|\n",
      "|{\"schema\":{\"type\"...|           1|  r|  3|    Edward|   Walker|       ed@walker.com|2022-05-06 14:30:...|      null|\n",
      "|{\"schema\":{\"type\"...|           2|  r|  4|      Jonh|Kretchmar|  annek@noanswer.org|2022-05-06 14:30:...|      null|\n",
      "+--------------------+------------+---+---+----------+---------+--------------------+--------------------+----------+\n",
      "\n"
     ]
    }
   ],
   "source": [
    "dfr.show()"
   ]
  },
  {
   "cell_type": "code",
   "execution_count": 13,
   "id": "c1e6979a-861c-4411-b417-b0da5017b6f0",
   "metadata": {},
   "outputs": [
    {
     "name": "stdout",
     "output_type": "stream",
     "text": [
      "+--------------------+------------+---+---+----------+---------+--------------------+--------------------+----------+\n",
      "|           kafka_key|kafka_offset| op| id|first_name|last_name|               email|          created_at|updated_at|\n",
      "+--------------------+------------+---+---+----------+---------+--------------------+--------------------+----------+\n",
      "|{\"schema\":{\"type\"...|           0|  r|  1|     Sally|   Thomas|sally.thomas@acme...|2022-05-06 14:30:...|      null|\n",
      "|{\"schema\":{\"type\"...|           4|  u|  2|    George|   Bailey|   george@foobar.com|2022-05-06 16:02:...|      null|\n",
      "|{\"schema\":{\"type\"...|           5|  u|  3|    Edward|   Walker|   edward@walker.com|2022-05-06 16:03:...|      null|\n",
      "|{\"schema\":{\"type\"...|           2|  r|  4|      Jonh|Kretchmar|  annek@noanswer.org|2022-05-06 14:30:...|      null|\n",
      "|{\"schema\":{\"type\"...|           1|  c|  5|   Glauber|    Rocha|glauber.rocha@ter...|2022-05-06 16:01:...|      null|\n",
      "|{\"schema\":{\"type\"...|           3|  c|  6|    Hilton|  Lacerda|hilton@tatuagem.m...|2022-05-06 16:01:...|      null|\n",
      "|{\"schema\":{\"type\"...|           2|  c|  7|  Fernando| Meireles|fernando.meireles...|2022-05-06 16:01:...|      null|\n",
      "|{\"schema\":{\"type\"...|           3|  c|  8|  Fernando| Meireles|meireles@cidadede...|2022-05-06 16:03:...|      null|\n",
      "|{\"schema\":{\"type\"...|           0|  c|  9|   Claudio|    Assis|claudio.assis@ama...|2022-05-06 16:03:...|      null|\n",
      "+--------------------+------------+---+---+----------+---------+--------------------+--------------------+----------+\n",
      "\n"
     ]
    }
   ],
   "source": [
    "w2 = Window.partitionBy(\"id\").orderBy(F.col(\"created_at\").desc())\n",
    "dfr.withColumn(\"row\", F.row_number().over(w2)) \\\n",
    "  .filter(F.col(\"row\") == 1).drop(\"row\") \\\n",
    "  .filter(F.col(\"op\") != 'd') \\\n",
    "  .show()"
   ]
  },
  {
   "cell_type": "code",
   "execution_count": null,
   "id": "d72fd141-0940-431b-8293-7bca4d5e3db0",
   "metadata": {},
   "outputs": [],
   "source": []
  }
 ],
 "metadata": {
  "kernelspec": {
   "display_name": "Python 3 (ipykernel)",
   "language": "python",
   "name": "python3"
  },
  "language_info": {
   "codemirror_mode": {
    "name": "ipython",
    "version": 3
   },
   "file_extension": ".py",
   "mimetype": "text/x-python",
   "name": "python",
   "nbconvert_exporter": "python",
   "pygments_lexer": "ipython3",
   "version": "3.9.12"
  },
  "metadata": {
   "interpreter": {
    "hash": "e774977668b7c0ae8309835a5187aa7fbf7669e7d0bb59755bc63e573643edcd"
   }
  }
 },
 "nbformat": 4,
 "nbformat_minor": 5
}
