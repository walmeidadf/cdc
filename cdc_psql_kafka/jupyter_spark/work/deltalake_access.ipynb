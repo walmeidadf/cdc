{
 "cells": [
  {
   "cell_type": "markdown",
   "id": "a20cd12c-a60e-452d-9d9f-dac62f76bdb9",
   "metadata": {
    "tags": []
   },
   "source": [
    "### Import Modules"
   ]
  },
  {
   "cell_type": "code",
   "execution_count": 11,
   "id": "7b3a2c21-e00f-482e-b599-d8b4643cbb7e",
   "metadata": {},
   "outputs": [],
   "source": [
    "from pyspark.sql import SparkSession\n",
    "from pyspark.sql import functions as F\n",
    "from pyspark.sql.types import StructType, StructField, StringType, IntegerType\n",
    "from pyspark.sql.window import Window\n",
    "\n",
    "from delta.tables import *\n",
    "\n",
    "import os\n",
    "import json\n",
    "\n",
    "from datetime import datetime\n",
    "from pytz import timezone\n",
    "tz = timezone(\"America/Sao_Paulo\")"
   ]
  },
  {
   "cell_type": "markdown",
   "id": "4a9e605c-dfcc-4c95-81c6-6695a13f09ab",
   "metadata": {
    "tags": []
   },
   "source": [
    "### Build a Spark Session\n",
    "The entry point to programming Spark with the Dataset and DataFrame API."
   ]
  },
  {
   "cell_type": "code",
   "execution_count": 4,
   "id": "241a3957-b1e9-4f2b-bad5-67acd4a21940",
   "metadata": {},
   "outputs": [],
   "source": [
    "spark = SparkSession \\\n",
    "    .builder \\\n",
    "    .config(\"spark.jars.packages\", \"org.apache.spark:spark-sql-kafka-0-10_2.12:3.2.1,io.delta:delta-core_2.12:1.2.1\") \\\n",
    "    .config(\"spark.sql.extensions\", \"io.delta.sql.DeltaSparkSessionExtension\") \\\n",
    "    .config(\"spark.sql.catalog.spark_catalog\", \"org.apache.spark.sql.delta.catalog.DeltaCatalog\") \\\n",
    "    .appName(\"LabCDC\") \\\n",
    "    .getOrCreate()"
   ]
  },
  {
   "cell_type": "markdown",
   "id": "1f779551-9557-451c-a1c9-84b789e019c2",
   "metadata": {},
   "source": [
    "### Visualize delta lake table"
   ]
  },
  {
   "cell_type": "code",
   "execution_count": 22,
   "id": "1031d067-8898-4a97-8177-3a2b8eb83cd1",
   "metadata": {},
   "outputs": [],
   "source": [
    "# Define a path location where the table will be created\n",
    "location = \"/delta_lake/customers\"\n",
    "\n",
    "dfr = spark.read.format(\"delta\").load(location)"
   ]
  },
  {
   "cell_type": "code",
   "execution_count": 29,
   "id": "0bb31563-6590-4e34-8c20-918beebce5ca",
   "metadata": {},
   "outputs": [
    {
     "name": "stdout",
     "output_type": "stream",
     "text": [
      "+--------------------+------------+---+----------+---------+--------------------+--------------------+----------+\n",
      "|           kafka_key|kafka_offset| id|first_name|last_name|               email|          created_at|updated_at|\n",
      "+--------------------+------------+---+----------+---------+--------------------+--------------------+----------+\n",
      "|{\"schema\":{\"type\"...|          13|  2|    George|   Bailey|   george@foobar.com|2022-05-02 21:17:...|      null|\n",
      "|{\"schema\":{\"type\"...|           5|  7|  Fernando| Meireles|fernando.meireles...|2022-05-02 21:11:...|      null|\n",
      "|{\"schema\":{\"type\"...|           5|  7|  Fernando| Meireles|fernando.meireles...|2022-05-02 21:11:...|      null|\n",
      "|{\"schema\":{\"type\"...|          12|  6|      Caca|  Diegues|caca.diegues@vida...|2022-05-02 21:11:...|      null|\n",
      "|{\"schema\":{\"type\"...|          12|  6|      Caca|  Diegues|caca.diegues@vida...|2022-05-02 21:11:...|      null|\n",
      "|{\"schema\":{\"type\"...|           4|  5|   Glauber|    Rocha|glauber.rocha@ter...|2022-05-02 21:11:...|      null|\n",
      "|{\"schema\":{\"type\"...|           4|  5|   Glauber|    Rocha|glauber.rocha@ter...|2022-05-02 21:11:...|      null|\n",
      "|{\"schema\":{\"type\"...|          10|  3|    Edward|   Walker|       ed@walker.com|2022-05-02 17:56:...|      null|\n",
      "|{\"schema\":{\"type\"...|          10|  3|    Edward|   Walker|       ed@walker.com|2022-05-02 17:56:...|      null|\n",
      "|{\"schema\":{\"type\"...|          11|  4|      Jonh|Kretchmar|  annek@noanswer.org|2022-05-02 17:56:...|      null|\n",
      "|{\"schema\":{\"type\"...|          11|  4|      Jonh|Kretchmar|  annek@noanswer.org|2022-05-02 17:56:...|      null|\n",
      "|{\"schema\":{\"type\"...|          10|  3|    Edward|   Walker|       ed@walker.com|2022-05-02 17:56:...|      null|\n",
      "|{\"schema\":{\"type\"...|          11|  4|      Jonh|Kretchmar|  annek@noanswer.org|2022-05-02 17:56:...|      null|\n",
      "|{\"schema\":{\"type\"...|          11|  4|      Jonh|Kretchmar|  annek@noanswer.org|2022-05-02 17:56:...|      null|\n",
      "|{\"schema\":{\"type\"...|          10|  3|    Edward|   Walker|       ed@walker.com|2022-05-02 17:56:...|      null|\n",
      "|{\"schema\":{\"type\"...|           9|  2|    George|   Bailey|  gbailey@foobar.com|2022-05-02 17:56:...|      null|\n",
      "|{\"schema\":{\"type\"...|           9|  2|    George|   Bailey|  gbailey@foobar.com|2022-05-02 17:56:...|      null|\n",
      "|{\"schema\":{\"type\"...|           9|  2|    George|   Bailey|  gbailey@foobar.com|2022-05-02 17:56:...|      null|\n",
      "|{\"schema\":{\"type\"...|           3|  1|     Sally|   Thomas|sally.thomas@acme...|2022-05-02 17:56:...|      null|\n",
      "|{\"schema\":{\"type\"...|           3|  1|     Sally|   Thomas|sally.thomas@acme...|2022-05-02 17:56:...|      null|\n",
      "+--------------------+------------+---+----------+---------+--------------------+--------------------+----------+\n",
      "only showing top 20 rows\n",
      "\n"
     ]
    }
   ],
   "source": [
    "dfr.sort(F.col(\"created_at\").desc()).show()"
   ]
  },
  {
   "cell_type": "code",
   "execution_count": 26,
   "id": "c1e6979a-861c-4411-b417-b0da5017b6f0",
   "metadata": {},
   "outputs": [
    {
     "name": "stdout",
     "output_type": "stream",
     "text": [
      "+--------------------+------------+---+----------+---------+--------------------+--------------------+----------+\n",
      "|           kafka_key|kafka_offset| id|first_name|last_name|               email|          created_at|updated_at|\n",
      "+--------------------+------------+---+----------+---------+--------------------+--------------------+----------+\n",
      "|{\"schema\":{\"type\"...|           3|  1|     Sally|   Thomas|sally.thomas@acme...|2022-05-02 17:56:...|      null|\n",
      "|{\"schema\":{\"type\"...|          13|  2|    George|   Bailey|   george@foobar.com|2022-05-02 21:17:...|      null|\n",
      "|{\"schema\":{\"type\"...|          10|  3|    Edward|   Walker|       ed@walker.com|2022-05-02 17:56:...|      null|\n",
      "|{\"schema\":{\"type\"...|          11|  4|      Jonh|Kretchmar|  annek@noanswer.org|2022-05-02 17:56:...|      null|\n",
      "|{\"schema\":{\"type\"...|           4|  5|   Glauber|    Rocha|glauber.rocha@ter...|2022-05-02 21:11:...|      null|\n",
      "|{\"schema\":{\"type\"...|          12|  6|      Caca|  Diegues|caca.diegues@vida...|2022-05-02 21:11:...|      null|\n",
      "|{\"schema\":{\"type\"...|           5|  7|  Fernando| Meireles|fernando.meireles...|2022-05-02 21:11:...|      null|\n",
      "+--------------------+------------+---+----------+---------+--------------------+--------------------+----------+\n",
      "\n"
     ]
    }
   ],
   "source": [
    "w2 = Window.partitionBy(\"id\").orderBy(F.col(\"created_at\").desc())\n",
    "dfr.withColumn(\"row\", F.row_number().over(w2)) \\\n",
    "  .filter(F.col(\"row\") == 1).drop(\"row\") \\\n",
    "  .show()"
   ]
  },
  {
   "cell_type": "markdown",
   "id": "608eda90",
   "metadata": {},
   "source": [
    "Referências:\n",
    "https://docs.delta.io/latest/delta-batch.html#-ddlcreatetable\n",
    "https://docs.delta.io/latest/delta-constraints.html\n",
    "https://spark.apache.org/docs/3.1.1/sql-ref.html\n",
    "https://spark.apache.org/docs/3.1.1/sql-ref-syntax.html\n",
    "https://docs.delta.io/latest/best-practices.html\n",
    "https://debezium.io/documentation/reference/1.6/connectors/postgresql.html\n",
    "https://partners-intl.aliyun.com/help/doc-detail/141203.htm\n",
    "https://spark.apache.org/docs/3.1.1/structured-streaming-kafka-integration.html#content\n",
    "https://debezium.io/documentation/online-resources/\n",
    "https://github.com/suchitgupta01/spark-streaming-with-debezium\n",
    "https://suchit-g.medium.com/spark-streaming-with-kafka-connect-debezium-connector-ab9163808667\n",
    "https://stackoverflow.com/questions/62296734/how-to-transform-a-debezium-message-in-json-format-such-that-it-can-be-loaded-in\n",
    "https://github.com/kimaina/openmrs-elt\n",
    "https://sandeepkattepogu.medium.com/python-spark-transformations-on-kafka-data-8a19b498b32c\n",
    "https://spark.apache.org/docs/2.1.2/api/python/_modules/pyspark/sql/readwriter.html\n",
    "https://docs.delta.io/latest/quick-start.html#create-a-table&language-python\n",
    "https://spark.apache.org/docs/latest/api/python/reference/api/pyspark.sql.DataFrame.collect.html\n",
    "https://sparkbyexamples.com/pyspark/pyspark-collect/\n",
    "https://keestalkstech.com/2019/11/streaming-a-kafka-topic-to-a-delta-table-on-s3-with-spark-structured-streaming/ *****\n",
    "https://spark.apache.org/docs/latest/sql-data-sources-jdbc.html"
   ]
  }
 ],
 "metadata": {
  "kernelspec": {
   "display_name": "Python 3 (ipykernel)",
   "language": "python",
   "name": "python3"
  },
  "language_info": {
   "codemirror_mode": {
    "name": "ipython",
    "version": 3
   },
   "file_extension": ".py",
   "mimetype": "text/x-python",
   "name": "python",
   "nbconvert_exporter": "python",
   "pygments_lexer": "ipython3",
   "version": "3.9.10"
  },
  "metadata": {
   "interpreter": {
    "hash": "e774977668b7c0ae8309835a5187aa7fbf7669e7d0bb59755bc63e573643edcd"
   }
  }
 },
 "nbformat": 4,
 "nbformat_minor": 5
}
