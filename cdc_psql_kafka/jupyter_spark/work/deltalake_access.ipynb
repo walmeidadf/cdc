{
 "cells": [
  {
   "cell_type": "markdown",
   "id": "a20cd12c-a60e-452d-9d9f-dac62f76bdb9",
   "metadata": {
    "tags": []
   },
   "source": [
    "### Import Modules"
   ]
  },
  {
   "cell_type": "code",
   "execution_count": 1,
   "id": "7b3a2c21-e00f-482e-b599-d8b4643cbb7e",
   "metadata": {},
   "outputs": [],
   "source": [
    "from pyspark.sql import SparkSession\n",
    "from pyspark.sql import functions as F\n",
    "from pyspark.sql.types import StructType, StructField, StringType, IntegerType\n",
    "from pyspark.sql.window import Window\n",
    "\n",
    "from delta.tables import *\n",
    "\n",
    "import os\n",
    "import json\n",
    "\n",
    "from datetime import datetime\n",
    "from pytz import timezone\n",
    "tz = timezone(\"America/Sao_Paulo\")"
   ]
  },
  {
   "cell_type": "markdown",
   "id": "4a9e605c-dfcc-4c95-81c6-6695a13f09ab",
   "metadata": {
    "tags": []
   },
   "source": [
    "### Build a Spark Session\n",
    "The entry point to programming Spark with the Dataset and DataFrame API."
   ]
  },
  {
   "cell_type": "code",
   "execution_count": 2,
   "id": "241a3957-b1e9-4f2b-bad5-67acd4a21940",
   "metadata": {},
   "outputs": [],
   "source": [
    "spark = SparkSession \\\n",
    "    .builder \\\n",
    "    .config(\"spark.jars.packages\", \"org.apache.spark:spark-sql-kafka-0-10_2.12:3.2.1,io.delta:delta-core_2.12:1.2.1\") \\\n",
    "    .config(\"spark.sql.extensions\", \"io.delta.sql.DeltaSparkSessionExtension\") \\\n",
    "    .config(\"spark.sql.catalog.spark_catalog\", \"org.apache.spark.sql.delta.catalog.DeltaCatalog\") \\\n",
    "    .appName(\"LabCDC\") \\\n",
    "    .getOrCreate()"
   ]
  },
  {
   "cell_type": "markdown",
   "id": "1f779551-9557-451c-a1c9-84b789e019c2",
   "metadata": {},
   "source": [
    "### Visualize delta lake table"
   ]
  },
  {
   "cell_type": "code",
   "execution_count": 3,
   "id": "1031d067-8898-4a97-8177-3a2b8eb83cd1",
   "metadata": {},
   "outputs": [],
   "source": [
    "# Define a path location where the table will be created\n",
    "location = \"/delta_lake/customers\"\n",
    "\n",
    "dfr = spark.read.format(\"delta\").load(location)"
   ]
  },
  {
   "cell_type": "code",
   "execution_count": 4,
   "id": "d6fbb48b-6c32-4408-ba5f-1657918c252a",
   "metadata": {},
   "outputs": [
    {
     "data": {
      "text/plain": [
       "31"
      ]
     },
     "execution_count": 4,
     "metadata": {},
     "output_type": "execute_result"
    }
   ],
   "source": [
    "dfr.count()"
   ]
  },
  {
   "cell_type": "code",
   "execution_count": 5,
   "id": "a884673f-3b51-489d-9e81-20c9311e58db",
   "metadata": {},
   "outputs": [
    {
     "name": "stdout",
     "output_type": "stream",
     "text": [
      "+--------------------+------------+---+----------+---------+--------------------+--------------------+----------+\n",
      "|           kafka_key|kafka_offset| id|first_name|last_name|               email|          created_at|updated_at|\n",
      "+--------------------+------------+---+----------+---------+--------------------+--------------------+----------+\n",
      "|{\"schema\":{\"type\"...|           4|  9|   Claudio|    Assis|claudio.assis@ama...|2022-05-04 14:18:...|      null|\n",
      "|{\"schema\":{\"type\"...|           5|  9|   Claudio|    Assis|claudio.assis@ama...|2022-05-05 19:39:...|      null|\n",
      "|{\"schema\":{\"type\"...|          13|  1|     Sally|   Thomas|sally.thomas@acme...|2022-05-04 14:18:...|      null|\n",
      "|{\"schema\":{\"type\"...|          14|  5|   Glauber|    Rocha|glauber.rocha@ter...|2022-05-04 14:18:...|      null|\n",
      "|{\"schema\":{\"type\"...|          15|  7|  Fernando| Meireles|fernando.meireles...|2022-05-04 14:18:...|      null|\n",
      "|{\"schema\":{\"type\"...|          16|  8|    Hilton|  Lacerda|hilton@tatuagem.m...|2022-05-04 14:18:...|      null|\n",
      "|{\"schema\":{\"type\"...|          17|  1|     Sally|   Thomas|sally.thomas@acme...|2022-05-05 19:39:...|      null|\n",
      "|{\"schema\":{\"type\"...|          18|  5|   Glauber|    Rocha|glauber.rocha@ter...|2022-05-05 19:39:...|      null|\n",
      "|{\"schema\":{\"type\"...|          19|  7|  Fernando| Meireles|fernando.meireles...|2022-05-05 19:39:...|      null|\n",
      "|{\"schema\":{\"type\"...|          20|  8|    Hilton|  Lacerda|hilton@tatuagem.m...|2022-05-05 19:39:...|      null|\n",
      "|{\"schema\":{\"type\"...|          12|  8|    Hilton|  Lacerda|hilton@tatuagem.m...|2022-05-03 19:15:...|      null|\n",
      "|{\"schema\":{\"type\"...|          31|  3|    Edward|   Walker|  abobora@walker.com|2022-05-05 20:23:...|      null|\n",
      "|{\"schema\":{\"type\"...|          22|  3|    Edward|   Walker|   edward@walker.com|2022-05-03 19:17:...|      null|\n",
      "|{\"schema\":{\"type\"...|          23|  4|      Jonh|Kretchmar|  annek@noanswer.org|2022-05-04 14:18:...|      null|\n",
      "|{\"schema\":{\"type\"...|          24|  6|      Caca|  Diegues|caca.diegues@vida...|2022-05-04 14:18:...|      null|\n",
      "|{\"schema\":{\"type\"...|          25|  2|    George|   Bailey|   george@foobar.com|2022-05-04 14:18:...|      null|\n",
      "|{\"schema\":{\"type\"...|          26|  3|    Edward|   Walker|   edward@walker.com|2022-05-04 14:18:...|      null|\n",
      "|{\"schema\":{\"type\"...|          27|  4|      Jonh|Kretchmar|  annek@noanswer.org|2022-05-05 19:39:...|      null|\n",
      "|{\"schema\":{\"type\"...|          28|  6|      Caca|  Diegues|caca.diegues@vida...|2022-05-05 19:39:...|      null|\n",
      "|{\"schema\":{\"type\"...|          29|  2|    George|   Bailey|   george@foobar.com|2022-05-05 19:39:...|      null|\n",
      "+--------------------+------------+---+----------+---------+--------------------+--------------------+----------+\n",
      "only showing top 20 rows\n",
      "\n"
     ]
    }
   ],
   "source": [
    "dfr.show()"
   ]
  },
  {
   "cell_type": "code",
   "execution_count": 6,
   "id": "c1e6979a-861c-4411-b417-b0da5017b6f0",
   "metadata": {},
   "outputs": [
    {
     "name": "stdout",
     "output_type": "stream",
     "text": [
      "+--------------------+------------+----+----------+---------+--------------------+--------------------+----------+\n",
      "|           kafka_key|kafka_offset|  id|first_name|last_name|               email|          created_at|updated_at|\n",
      "+--------------------+------------+----+----------+---------+--------------------+--------------------+----------+\n",
      "|{\"schema\":{\"type\"...|           2|null|      null|     null|                null|2022-05-03 19:50:...|      null|\n",
      "|{\"schema\":{\"type\"...|          17|   1|     Sally|   Thomas|sally.thomas@acme...|2022-05-05 19:39:...|      null|\n",
      "|{\"schema\":{\"type\"...|          29|   2|    George|   Bailey|   george@foobar.com|2022-05-05 19:39:...|      null|\n",
      "|{\"schema\":{\"type\"...|          31|   3|    Edward|   Walker|  abobora@walker.com|2022-05-05 20:23:...|      null|\n",
      "|{\"schema\":{\"type\"...|          27|   4|      Jonh|Kretchmar|  annek@noanswer.org|2022-05-05 19:39:...|      null|\n",
      "|{\"schema\":{\"type\"...|          18|   5|   Glauber|    Rocha|glauber.rocha@ter...|2022-05-05 19:39:...|      null|\n",
      "|{\"schema\":{\"type\"...|          28|   6|      Caca|  Diegues|caca.diegues@vida...|2022-05-05 19:39:...|      null|\n",
      "|{\"schema\":{\"type\"...|          19|   7|  Fernando| Meireles|fernando.meireles...|2022-05-05 19:39:...|      null|\n",
      "|{\"schema\":{\"type\"...|          20|   8|    Hilton|  Lacerda|hilton@tatuagem.m...|2022-05-05 19:39:...|      null|\n",
      "|{\"schema\":{\"type\"...|           5|   9|   Claudio|    Assis|claudio.assis@ama...|2022-05-05 19:39:...|      null|\n",
      "|{\"schema\":{\"type\"...|           1|  10|    Alguem|     Ruim|alguem@filmeruim....|2022-05-03 19:15:...|      null|\n",
      "+--------------------+------------+----+----------+---------+--------------------+--------------------+----------+\n",
      "\n"
     ]
    }
   ],
   "source": [
    "w2 = Window.partitionBy(\"id\").orderBy(F.col(\"created_at\").desc())\n",
    "dfr.withColumn(\"row\", F.row_number().over(w2)) \\\n",
    "  .filter(F.col(\"row\") == 1).drop(\"row\") \\\n",
    "  .show()"
   ]
  },
  {
   "cell_type": "code",
   "execution_count": null,
   "id": "9813e4c0-dc12-4ebf-acd6-f8636eb8662b",
   "metadata": {},
   "outputs": [],
   "source": []
  },
  {
   "cell_type": "code",
   "execution_count": null,
   "id": "1955723f-faa3-4395-92e8-8073f2fdc359",
   "metadata": {},
   "outputs": [],
   "source": [
    "w2 = Window.partitionBy(\"id\").orderBy(F.col(\"created_at\").desc())\n",
    "dfr.withColumn(\"row\", F.row_number().over(w2)) \\\n",
    "  .filter(F.col(\"row\") == 1).drop(\"row\") \\\n",
    "  .show()"
   ]
  }
 ],
 "metadata": {
  "kernelspec": {
   "display_name": "Python 3 (ipykernel)",
   "language": "python",
   "name": "python3"
  },
  "language_info": {
   "codemirror_mode": {
    "name": "ipython",
    "version": 3
   },
   "file_extension": ".py",
   "mimetype": "text/x-python",
   "name": "python",
   "nbconvert_exporter": "python",
   "pygments_lexer": "ipython3",
   "version": "3.9.10"
  },
  "metadata": {
   "interpreter": {
    "hash": "e774977668b7c0ae8309835a5187aa7fbf7669e7d0bb59755bc63e573643edcd"
   }
  }
 },
 "nbformat": 4,
 "nbformat_minor": 5
}
